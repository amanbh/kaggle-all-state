{
 "cells": [
  {
   "cell_type": "markdown",
   "metadata": {},
   "source": [
    "## Basic exploration"
   ]
  },
  {
   "cell_type": "markdown",
   "metadata": {},
   "source": [
    "### Import modules"
   ]
  },
  {
   "cell_type": "code",
   "execution_count": null,
   "metadata": {},
   "outputs": [],
   "source": [
    "import os, sys, time, random, math\n",
    "import tarfile, zipfile  # Work with compressed files\n",
    "\n",
    "import numpy as np     # Linear algebra\n",
    "import pandas as pd    # Data processing\n",
    "\n",
    "from IPython.display import display, Image  # Nice print statements\n",
    "from ggplot import *     # yhat/ggplot for plots\n",
    "\n",
    "from subprocess import check_output\n",
    "print(check_output([\"ls\", \"../../input\"]).decode(\"utf8\"))"
   ]
  },
  {
   "cell_type": "markdown",
   "metadata": {},
   "source": [
    "### Load data"
   ]
  },
  {
   "cell_type": "code",
   "execution_count": null,
   "metadata": {},
   "outputs": [],
   "source": [
    "train_data = pd.read_csv(\"../../input/train.csv\")\n",
    "test_data = pd.read_csv(\"../../input/test.csv\")"
   ]
  },
  {
   "cell_type": "markdown",
   "metadata": {},
   "source": [
    "### Examine shape of datasets"
   ]
  },
  {
   "cell_type": "code",
   "execution_count": null,
   "metadata": {},
   "outputs": [],
   "source": [
    "print (\"Dataset has {} samples with {} features each.\".format(*train_data.shape))\n",
    "train_data.info()\n",
    "display(train_data.head(5))\n",
    "\n",
    "print (\"Dataset has {} samples with {} features each.\".format(*test_data.shape))\n",
    "test_data.info()\n",
    "display(test_data.head(5))"
   ]
  },
  {
   "cell_type": "markdown",
   "metadata": {},
   "source": [
    "### Examine distrbutions of datasets"
   ]
  },
  {
   "cell_type": "code",
   "execution_count": null,
   "metadata": {},
   "outputs": [],
   "source": [
    "cols = train_data.columns\n",
    "features = [c for c in cols if c not in [\"id\", \"loss\"]]\n",
    "cat_features  = [c for c in cols if \"cat\" in c]\n",
    "cont_features = [c for c in cols if \"cont\" in c]\n",
    "\n",
    "print('Total {} features. {} category features, {} continuous features'.format(len(features), len(cat_features), len(cont_features)))\n",
    "\n",
    "display (train_data['loss'].describe())\n",
    "print (\"Mean/Variance values for cont_features:\")\n",
    "pd.concat( [train_data[cont_features].mean() , train_data[cont_features].var()], axis = 1)"
   ]
  },
  {
   "cell_type": "markdown",
   "metadata": {},
   "source": [
    "### Plot loss distributions"
   ]
  },
  {
   "cell_type": "code",
   "execution_count": null,
   "metadata": {},
   "outputs": [],
   "source": [
    "ggplot(aes(x = 'loss'), train_data) + geom_density()"
   ]
  },
  {
   "cell_type": "markdown",
   "metadata": {},
   "source": [
    "### Check if category values of test_data appear in train_data"
   ]
  },
  {
   "cell_type": "code",
   "execution_count": null,
   "metadata": {},
   "outputs": [],
   "source": [
    "for c in cats[0:]:\n",
    "    vals_d = data[c].unique()\n",
    "    vals_t = test_data[c].unique()\n",
    "    missing_vals = [v for v in vals_t if v not in vals_d]\n",
    "    if len(missing_vals) > 0:\n",
    "        print (c, missing_vals)\n",
    "            "
   ]
  },
  {
   "cell_type": "markdown",
   "metadata": {},
   "source": [
    "### Combine categories\n",
    "Combine categories from test and train data"
   ]
  },
  {
   "cell_type": "code",
   "execution_count": null,
   "metadata": {},
   "outputs": [],
   "source": [
    "ntrain = train_data.shape[0]\n",
    "ntest = test_data.shape[0]\n",
    "train_test = pd.concat((train_data[features], test_data[features])).reset_index(drop=True)\n",
    "for c in range(len(cat_features)):\n",
    "    train_test[cat_features[c]] = train_test[cat_features[c]].astype('category').cat.codes\n",
    "\n",
    "X = train_test.iloc[:ntrain,:]\n",
    "X_test = train_test.iloc[ntrain:,:]\n",
    "y = np.log(train_data['loss'])"
   ]
  },
  {
   "cell_type": "markdown",
   "metadata": {},
   "source": [
    "### Let's start with some scikit-learn!\n",
    "How about a fast randomforestregressor"
   ]
  },
  {
   "cell_type": "code",
   "execution_count": null,
   "metadata": {},
   "outputs": [],
   "source": [
    "from sklearn.ensemble import RandomForestRegressor\n",
    "rfr = RandomForestRegressor(n_jobs=3, n_estimators=6, min_samples_split=10, criterion='mse')\n",
    "rfr.fit(X, y)\n",
    "y_test = rfr.predict(X_test)"
   ]
  },
  {
   "cell_type": "markdown",
   "metadata": {},
   "source": [
    "Quickly look at the outputs.."
   ]
  },
  {
   "cell_type": "code",
   "execution_count": null,
   "metadata": {},
   "outputs": [],
   "source": [
    "display(y_test)\n",
    "print(np.exp(y_test).mean())"
   ]
  },
  {
   "cell_type": "markdown",
   "metadata": {},
   "source": [
    "### Save to a csv file.\n"
   ]
  },
  {
   "cell_type": "code",
   "execution_count": null,
   "metadata": {},
   "outputs": [],
   "source": [
    "submission = pd.read_csv('../../sample_submission.csv')\n",
    "submission['loss'] = np.exp(y_test)\n",
    "submission.to_csv('submission_rfr_mse_estimators_6_min_sample_split_10.csv', index=None)"
   ]
  }
 ],
 "metadata": {
  "git": {
   "suppress_outputs": true
  },
  "kernelspec": {
   "display_name": "Python 3",
   "language": "python",
   "name": "python3"
  },
  "language_info": {
   "codemirror_mode": {
    "name": "ipython",
    "version": 3
   },
   "file_extension": ".py",
   "mimetype": "text/x-python",
   "name": "python",
   "nbconvert_exporter": "python",
   "pygments_lexer": "ipython3",
   "version": "3.5.2"
  }
 },
 "nbformat": 4,
 "nbformat_minor": 1
}