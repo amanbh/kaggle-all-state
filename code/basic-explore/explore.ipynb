{
 "cells": [
  {
   "cell_type": "code",
   "execution_count": null,
   "metadata": {},
   "outputs": [],
   "source": [
    "## Basic exploration"
   ]
  },
  {
   "cell_type": "markdown",
   "metadata": {},
   "source": [
    "### Import modules"
   ]
  },
  {
   "cell_type": "code",
   "execution_count": null,
   "metadata": {},
   "outputs": [],
   "source": [
    "import os, sys, time, random, math\n",
    "import tarfile, zipfile  # Work with compressed files\n",
    "\n",
    "import numpy as np     # Linear algebra\n",
    "import pandas as pd    # Data processing\n",
    "\n",
    "from IPython.display import display, Image\n",
    "\n",
    "from subprocess import check_output\n",
    "print(check_output([\"ls\", \"../../input\"]).decode(\"utf8\"))"
   ]
  },
  {
   "cell_type": "markdown",
   "metadata": {},
   "source": [
    "### Load data"
   ]
  },
  {
   "cell_type": "code",
   "execution_count": null,
   "metadata": {},
   "outputs": [],
   "source": [
    "data = pd.read_csv(\"../../input/train.csv\")\n",
    "test_data = pd.read_csv(\"../../input/test.csv\")"
   ]
  },
  {
   "cell_type": "markdown",
   "metadata": {},
   "source": [
    "### Examine shape of datasets"
   ]
  },
  {
   "cell_type": "code",
   "execution_count": null,
   "metadata": {},
   "outputs": [],
   "source": [
    "print (\"Dataset has {} samples with {} features each.\".format(*data.shape))\n",
    "data.info()\n",
    "display(data.head(5))\n",
    "\n",
    "print (\"Dataset has {} samples with {} features each.\".format(*test_data.shape))\n",
    "test_data.info()\n",
    "display(test_data.head(5))"
   ]
  },
  {
   "cell_type": "markdown",
   "metadata": {},
   "source": [
    "### Examine distrbutions of datasets"
   ]
  },
  {
   "cell_type": "code",
   "execution_count": null,
   "metadata": {},
   "outputs": [],
   "source": [
    "cols = data.columns\n",
    "cats = [c for c in cols if \"cat\" in c]\n",
    "conts = [c for c in cols if \"cont\" in c]\n",
    "\n",
    "print('Total {} columns. {} category columns, {} continuous columns'.format(len(cols), len(cats), len(conts)))\n",
    "print('Avg loss = {:.3f}'.format(data['loss'].mean()))\n",
    "for c in conts:\n",
    "    print('Average value of {} = {:.3f}'.format(c, data[c].mean()) )\n",
    "data['loss'].describe()"
   ]
  },
  {
   "cell_type": "markdown",
   "metadata": {},
   "source": [
    "### Plot loss distributions"
   ]
  },
  {
   "cell_type": "code",
   "execution_count": null,
   "metadata": {},
   "outputs": [],
   "source": [
    "from ggplot import *\n",
    "ggplot(aes(x = 'loss'), data) + geom_density()"
   ]
  },
  {
   "cell_type": "markdown",
   "metadata": {},
   "source": [
    "### Check if category values of test_data appear in train_data"
   ]
  },
  {
   "cell_type": "code",
   "execution_count": null,
   "metadata": {},
   "outputs": [],
   "source": [
    "for c in cats[0:]:\n",
    "    vals_d = data[c].unique()\n",
    "    vals_t = test_data[c].unique()\n",
    "    for v in vals_t:\n",
    "        if v not in vals_d:\n",
    "            print(c, v)"
   ]
  }
 ],
 "metadata": {
  "git": {
   "suppress_outputs": true
  },
  "kernelspec": {
   "display_name": "Python 3",
   "language": "python",
   "name": "python3"
  },
  "language_info": {
   "codemirror_mode": {
    "name": "ipython",
    "version": 3
   },
   "file_extension": ".py",
   "mimetype": "text/x-python",
   "name": "python",
   "nbconvert_exporter": "python",
   "pygments_lexer": "ipython3",
   "version": "3.5.2"
  }
 },
 "nbformat": 4,
 "nbformat_minor": 1
}