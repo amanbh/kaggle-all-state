{
 "cells": [
  {
   "cell_type": "markdown",
   "metadata": {},
   "source": [
    "## Basic exploration"
   ]
  },
  {
   "cell_type": "markdown",
   "metadata": {},
   "source": [
    "### Import modules"
   ]
  },
  {
   "cell_type": "code",
   "execution_count": null,
   "metadata": {},
   "outputs": [],
   "source": [
    "import os, sys, time, random, math\n",
    "import tarfile, zipfile  # Work with compressed files\n",
    "\n",
    "import numpy as np     # Linear algebra\n",
    "import pandas as pd    # Data processing\n",
    "\n",
    "from IPython.display import display, Image  # Nice print statements\n",
    "from ggplot import *     # yhat/ggplot for plots\n",
    "\n",
    "from subprocess import check_output\n",
    "print(check_output([\"ls\", \"../../input\"]).decode(\"utf8\"))"
   ]
  },
  {
   "cell_type": "markdown",
   "metadata": {},
   "source": [
    "### Load data"
   ]
  },
  {
   "cell_type": "code",
   "execution_count": null,
   "metadata": {},
   "outputs": [],
   "source": [
    "train_data = pd.read_csv(\"../../input/train.csv\")\n",
    "test_data = pd.read_csv(\"../../input/test.csv\")"
   ]
  },
  {
   "cell_type": "markdown",
   "metadata": {},
   "source": [
    "### Examine shape of datasets"
   ]
  },
  {
   "cell_type": "code",
   "execution_count": null,
   "metadata": {},
   "outputs": [],
   "source": [
    "print (\"Dataset has {} samples with {} features each.\".format(*train_data.shape))\n",
    "train_data.info()\n",
    "display(train_data.head(5))\n",
    "\n",
    "print (\"Dataset has {} samples with {} features each.\".format(*test_data.shape))\n",
    "test_data.info()\n",
    "display(test_data.head(5))"
   ]
  },
  {
   "cell_type": "markdown",
   "metadata": {},
   "source": [
    "### Examine distrbutions of datasets"
   ]
  },
  {
   "cell_type": "code",
   "execution_count": null,
   "metadata": {},
   "outputs": [],
   "source": [
    "cols = train_data.columns\n",
    "features = [c for c in cols if c not in [\"id\", \"loss\"]]\n",
    "cat_features  = [c for c in cols if \"cat\" in c]\n",
    "cont_features = [c for c in cols if \"cont\" in c]\n",
    "\n",
    "print('Total {} features. {} category features, {} continuous features'.format(len(features), len(cat_features), len(cont_features)))\n",
    "for c in cont_features:\n",
    "    print('Average value of {} = {:.3f}'.format(c, train_data[c].mean()) )\n",
    "train_data['loss'].describe()"
   ]
  },
  {
   "cell_type": "markdown",
   "metadata": {},
   "source": [
    "### Plot loss distributions"
   ]
  },
  {
   "cell_type": "code",
   "execution_count": null,
   "metadata": {},
   "outputs": [],
   "source": [
    "ggplot(aes(x = 'loss'), train_data) + geom_density()"
   ]
  },
  {
   "cell_type": "markdown",
   "metadata": {},
   "source": [
    "### Check if category values of test_data appear in train_data"
   ]
  },
  {
   "cell_type": "code",
   "execution_count": null,
   "metadata": {},
   "outputs": [],
   "source": [
    "for c in cats[0:]:\n",
    "    vals_d = data[c].unique()\n",
    "    vals_t = test_data[c].unique()\n",
    "    missing_vals = [v for v in vals_t if v not in vals_d]\n",
    "    if len(missing_vals) > 0:\n",
    "        print (c, missing_vals)\n",
    "            "
   ]
  },
  {
   "cell_type": "code",
   "execution_count": null,
   "metadata": {},
   "outputs": [],
   "source": []
  }
 ],
 "metadata": {
  "git": {
   "suppress_outputs": true
  },
  "kernelspec": {
   "display_name": "Python 3",
   "language": "python",
   "name": "python3"
  },
  "language_info": {
   "codemirror_mode": {
    "name": "ipython",
    "version": 3
   },
   "file_extension": ".py",
   "mimetype": "text/x-python",
   "name": "python",
   "nbconvert_exporter": "python",
   "pygments_lexer": "ipython3",
   "version": "3.5.2"
  }
 },
 "nbformat": 4,
 "nbformat_minor": 1
}