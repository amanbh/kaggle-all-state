{
 "cells": [
  {
   "cell_type": "markdown",
   "metadata": {},
   "source": [
    "## Basic exploration"
   ]
  },
  {
   "cell_type": "markdown",
   "metadata": {},
   "source": [
    "### Import modules"
   ]
  },
  {
   "cell_type": "code",
   "execution_count": null,
   "metadata": {},
   "outputs": [],
   "source": [
    "import os, sys, time, random, math\n",
    "from datetime import datetime      # For timer \n",
    "import tarfile, zipfile            # Work with compressed files\n",
    "\n",
    "import numpy as np                 # Linear algebra\n",
    "import pandas as pd                # Data processing\n",
    "\n",
    "from IPython.display import display, Image  # Nice print statements\n",
    "from ggplot import *               # yhat/ggplot for plots\n",
    "\n",
    "from subprocess import check_output\n",
    "print(check_output([\"ls\", \"../../input\"]).decode(\"utf8\"))"
   ]
  },
  {
   "cell_type": "code",
   "execution_count": null,
   "metadata": {},
   "outputs": [],
   "source": [
    "def timer(start_time=None):\n",
    "    if not start_time:\n",
    "        start_time = datetime.now()\n",
    "        return start_time\n",
    "    elif start_time:\n",
    "        tmin, tsec = divmod((datetime.now() - start_time).total_seconds(), 60)\n",
    "        print(' Time taken: %i minutes and %s seconds.' %\n",
    "              (tmin, round(tsec, 2)))"
   ]
  },
  {
   "cell_type": "markdown",
   "metadata": {},
   "source": [
    "### Load data"
   ]
  },
  {
   "cell_type": "code",
   "execution_count": null,
   "metadata": {},
   "outputs": [],
   "source": [
    "train_data = pd.read_csv(\"../../input/train.csv\")\n",
    "test_data = pd.read_csv(\"../../input/test.csv\")\n",
    "\n",
    "start_time = timer(None)\n",
    "ntrain = train_data.shape[0]\n",
    "ntest = test_data.shape[0]\n",
    "train_test = pd.concat((train_data[features], test_data[features])).reset_index(drop=True)\n",
    "for c in range(len(cat_features)):\n",
    "    train_test[cat_features[c]] = train_test[cat_features[c]].astype('category').cat.codes\n",
    "\n",
    "X = train_test.iloc[:ntrain,:]\n",
    "X_test = train_test.iloc[ntrain:,:]\n",
    "y = np.log(train_data['loss'])\n",
    "\n",
    "timer(start_time)\n"
   ]
  },
  {
   "cell_type": "markdown",
   "metadata": {},
   "source": [
    "### Test with lightGBM\n",
    "LightGBM wants data in a CSV file. Label as first column. No headers."
   ]
  },
  {
   "cell_type": "code",
   "execution_count": null,
   "metadata": {},
   "outputs": [],
   "source": [
    "lgbm_train = pd.concat([y, X], axis = 1)\n",
    "display( lgbm_train.head())\n",
    "display( lgbm_train.shape)\n",
    "# lgbm_train.to_csv(\"lgbm_train.csv\", index = None)\n",
    "# X_test.to_csv(\"lgbm_test.csv\", index=None)\n",
    "# print('LightGBM files saved.')"
   ]
  },
  {
   "cell_type": "markdown",
   "metadata": {},
   "source": [
    "After LightGBM is run externally:\n",
    "- Get results from LightGBM in LighGBM_predict_result.txt\n",
    "- Read thm into pd.df\n",
    "- Attach id's\n",
    "- Save into csv for submission."
   ]
  },
  {
   "cell_type": "code",
   "execution_count": null,
   "metadata": {},
   "outputs": [],
   "source": [
    "submission = pd.read_csv(\"LightGBM_predict_result.txt\", header=None)\n",
    "display(submission.shape)\n",
    "display(submission.head())\n",
    "submission = pd.concat([test_data['id'], np.exp(submission)], axis = 1, names = ['id', 'loss'])\n",
    "submission.columns = ['id', 'loss']\n",
    "display(submission.shape)\n",
    "display(submission.head())\n",
    "submission.to_csv(\"submission_lightgbm_L2onLog_7234_trees.csv\", index=None)"
   ]
  }
 ],
 "metadata": {
  "git": {
   "suppress_outputs": true
  },
  "kernelspec": {
   "display_name": "Python 3",
   "language": "python",
   "name": "python3"
  },
  "language_info": {
   "codemirror_mode": {
    "name": "ipython",
    "version": 3
   },
   "file_extension": ".py",
   "mimetype": "text/x-python",
   "name": "python",
   "nbconvert_exporter": "python",
   "pygments_lexer": "ipython3",
   "version": "3.5.2"
  }
 },
 "nbformat": 4,
 "nbformat_minor": 1
}